{
 "cells": [
  {
   "cell_type": "code",
   "execution_count": 22,
   "id": "c7019589",
   "metadata": {},
   "outputs": [],
   "source": [
    "import requests\n",
    "from bs4 import BeautifulSoup\n",
    "\n",
    "def obter_nome_por_codigo(codigo):\n",
    "    link = f\"https://www.google.com.br/search?q={codigo}\"\n",
    "    headers = {\n",
    "        \"User-Agent\": \"Mozilla/5.0 (Windows NT 10.0; Win64; x64) AppleWebKit/537.36 (KHTML, like Gecko) Chrome/122.0.0.0 Safari/537.36\"\n",
    "    }\n",
    "\n",
    "    requisicao = requests.get(link, headers=headers)\n",
    "    if requisicao.status_code == 200:\n",
    "        site = BeautifulSoup(requisicao.content, \"html.parser\")\n",
    "        # Tentar encontrar o texto em várias tags possíveis\n",
    "        spans = site.find_all([\"span\", \"div\", \"p\"], class_=[\"VwiC3b yXK7lf lVm3ye r025kc hJNv6b Hdw6tb\", \"fG8Fp uo4vr\"])\n",
    "        for span in spans:\n",
    "            texto = span.text\n",
    "            index_inicio = texto.find(\"cadastrado por\")\n",
    "            index_fim = texto.find(\"sob o número\")\n",
    "            if index_inicio != -1 and index_fim != -1:\n",
    "                nome = texto[index_inicio + len(\"cadastrado por\"):index_fim]\n",
    "                return nome.strip()\n",
    "    return \"Nome não encontrado\"\n",
    "\n",
    "# Lista de códigos\n",
    "codigos = [\n",
    "    \"MT-5103858-A5D392DF73984B7E8F2DF104C1D7F2CE\",\n",
    "    \"MT-5106307-684CFDC4C60A4BDDA189B2EB2AB7C10E\",\n",
    "    \"MT-5103858-BED9C95936414FA19B57D0438DCB29B4\"\n",
    "]\n",
    "\n",
    "# Criar lista de tuplas (codigo, nome)\n",
    "dados = [(codigo, obter_nome_por_codigo(codigo)) for codigo in codigos]\n",
    "\n",
    "# Salvar em uma planilha\n",
    "import pandas as pd\n",
    "\n",
    "df = pd.DataFrame(dados, columns=[\"Código\", \"Nome\"])\n",
    "df.to_excel(\"nomes.xlsx\", index=False)\n"
   ]
  },
  {
   "cell_type": "code",
   "execution_count": 45,
   "id": "425d3db7",
   "metadata": {
    "scrolled": true
   },
   "outputs": [
    {
     "name": "stdout",
     "output_type": "stream",
     "text": [
      "Collecting webdriver_manager\n",
      "  Obtaining dependency information for webdriver_manager from https://files.pythonhosted.org/packages/b1/51/b5c11cf739ac4eecde611794a0ec9df420d0239d51e73bc19eb44f02b48b/webdriver_manager-4.0.1-py2.py3-none-any.whl.metadata\n",
      "  Downloading webdriver_manager-4.0.1-py2.py3-none-any.whl.metadata (12 kB)\n",
      "Requirement already satisfied: requests in c:\\users\\bernardo\\anaconda 2\\lib\\site-packages (from webdriver_manager) (2.31.0)\n",
      "Requirement already satisfied: python-dotenv in c:\\users\\bernardo\\anaconda 2\\lib\\site-packages (from webdriver_manager) (0.21.0)\n",
      "Requirement already satisfied: packaging in c:\\users\\bernardo\\anaconda 2\\lib\\site-packages (from webdriver_manager) (23.1)\n",
      "Requirement already satisfied: charset-normalizer<4,>=2 in c:\\users\\bernardo\\anaconda 2\\lib\\site-packages (from requests->webdriver_manager) (2.0.4)\n",
      "Requirement already satisfied: idna<4,>=2.5 in c:\\users\\bernardo\\anaconda 2\\lib\\site-packages (from requests->webdriver_manager) (3.4)\n",
      "Requirement already satisfied: urllib3<3,>=1.21.1 in c:\\users\\bernardo\\anaconda 2\\lib\\site-packages (from requests->webdriver_manager) (1.26.16)\n",
      "Requirement already satisfied: certifi>=2017.4.17 in c:\\users\\bernardo\\anaconda 2\\lib\\site-packages (from requests->webdriver_manager) (2023.7.22)\n",
      "Downloading webdriver_manager-4.0.1-py2.py3-none-any.whl (27 kB)\n",
      "Installing collected packages: webdriver_manager\n",
      "Successfully installed webdriver_manager-4.0.1\n"
     ]
    }
   ],
   "source": [
    "!pip install webdriver_manager\n"
   ]
  },
  {
   "cell_type": "code",
   "execution_count": 49,
   "id": "b272a823",
   "metadata": {
    "collapsed": true
   },
   "outputs": [
    {
     "ename": "NoSuchElementException",
     "evalue": "Message: no such element: Unable to locate element: {\"method\":\"xpath\",\"selector\":\"//*[@id=\"rso\"]/div[1]/div/div[1]/div/div/div[1]/div[2]/div/div[1]/div[1]/div/div[1]/div/div[1]/div/div[2]/div[1]/div/div/div/div[1]/div[1]/div/div/div[2]/div[2]/div/div[1]/div/div[1]/a/div/div[2]/div/div[1]/div\"}\n  (Session info: chrome=122.0.6261.111); For documentation on this error, please visit: https://www.selenium.dev/documentation/webdriver/troubleshooting/errors#no-such-element-exception\nStacktrace:\n\tGetHandleVerifier [0x01068C93+51395]\n\t(No symbol) [0x00FD5EF1]\n\t(No symbol) [0x00E8E13A]\n\t(No symbol) [0x00EC62BB]\n\t(No symbol) [0x00EC63EB]\n\t(No symbol) [0x00EFC162]\n\t(No symbol) [0x00EE3ED4]\n\t(No symbol) [0x00EFA570]\n\t(No symbol) [0x00EE3C26]\n\t(No symbol) [0x00EBC629]\n\t(No symbol) [0x00EBD40D]\n\tGetHandleVerifier [0x013E6453+3711107]\n\tGetHandleVerifier [0x0142583A+3970154]\n\tGetHandleVerifier [0x01420B28+3950424]\n\tGetHandleVerifier [0x01119C99+776393]\n\t(No symbol) [0x00FE16C4]\n\t(No symbol) [0x00FDC5A8]\n\t(No symbol) [0x00FDC759]\n\t(No symbol) [0x00FCDD80]\n\tBaseThreadInitThunk [0x76407BA9+25]\n\tRtlInitializeExceptionChain [0x779DBD2B+107]\n\tRtlClearBits [0x779DBCAF+191]\n",
     "output_type": "error",
     "traceback": [
      "\u001b[1;31m---------------------------------------------------------------------------\u001b[0m",
      "\u001b[1;31mNoSuchElementException\u001b[0m                    Traceback (most recent call last)",
      "Cell \u001b[1;32mIn[49], line 15\u001b[0m\n\u001b[0;32m     11\u001b[0m navegador\u001b[38;5;241m.\u001b[39mget(\u001b[38;5;124m\"\u001b[39m\u001b[38;5;124mhttps://www.google.com.br/search?q=MT-5103858-A5D392DF73984B7E8F2DF104C1D7F2CE\u001b[39m\u001b[38;5;124m\"\u001b[39m)\n\u001b[0;32m     13\u001b[0m \u001b[38;5;66;03m# Passo 2:\u001b[39;00m\n\u001b[0;32m     14\u001b[0m \u001b[38;5;66;03m# Localizando o elemento com XPath\u001b[39;00m\n\u001b[1;32m---> 15\u001b[0m elemento \u001b[38;5;241m=\u001b[39m navegador\u001b[38;5;241m.\u001b[39mfind_element(By\u001b[38;5;241m.\u001b[39mXPATH, \u001b[38;5;124m'\u001b[39m\u001b[38;5;124m//*[@id=\u001b[39m\u001b[38;5;124m\"\u001b[39m\u001b[38;5;124mrso\u001b[39m\u001b[38;5;124m\"\u001b[39m\u001b[38;5;124m]/div[1]/div/div[1]/div/div/div[1]/div[2]/div/div[1]/div[1]/div/div[1]/div/div[1]/div/div[2]/div[1]/div/div/div/div[1]/div[1]/div/div/div[2]/div[2]/div/div[1]/div/div[1]/a/div/div[2]/div/div[1]/div\u001b[39m\u001b[38;5;124m'\u001b[39m)\n\u001b[0;32m     17\u001b[0m \u001b[38;5;66;03m# Passo 3:\u001b[39;00m\n\u001b[0;32m     18\u001b[0m \u001b[38;5;66;03m# Extraindo o texto do elemento\u001b[39;00m\n\u001b[0;32m     19\u001b[0m texto \u001b[38;5;241m=\u001b[39m elemento\u001b[38;5;241m.\u001b[39mtext\n",
      "File \u001b[1;32m~\\anaconda 2\\Lib\\site-packages\\selenium\\webdriver\\remote\\webdriver.py:742\u001b[0m, in \u001b[0;36mWebDriver.find_element\u001b[1;34m(self, by, value)\u001b[0m\n\u001b[0;32m    739\u001b[0m     by \u001b[38;5;241m=\u001b[39m By\u001b[38;5;241m.\u001b[39mCSS_SELECTOR\n\u001b[0;32m    740\u001b[0m     value \u001b[38;5;241m=\u001b[39m \u001b[38;5;124mf\u001b[39m\u001b[38;5;124m'\u001b[39m\u001b[38;5;124m[name=\u001b[39m\u001b[38;5;124m\"\u001b[39m\u001b[38;5;132;01m{\u001b[39;00mvalue\u001b[38;5;132;01m}\u001b[39;00m\u001b[38;5;124m\"\u001b[39m\u001b[38;5;124m]\u001b[39m\u001b[38;5;124m'\u001b[39m\n\u001b[1;32m--> 742\u001b[0m \u001b[38;5;28;01mreturn\u001b[39;00m \u001b[38;5;28mself\u001b[39m\u001b[38;5;241m.\u001b[39mexecute(Command\u001b[38;5;241m.\u001b[39mFIND_ELEMENT, {\u001b[38;5;124m\"\u001b[39m\u001b[38;5;124musing\u001b[39m\u001b[38;5;124m\"\u001b[39m: by, \u001b[38;5;124m\"\u001b[39m\u001b[38;5;124mvalue\u001b[39m\u001b[38;5;124m\"\u001b[39m: value})[\u001b[38;5;124m\"\u001b[39m\u001b[38;5;124mvalue\u001b[39m\u001b[38;5;124m\"\u001b[39m]\n",
      "File \u001b[1;32m~\\anaconda 2\\Lib\\site-packages\\selenium\\webdriver\\remote\\webdriver.py:348\u001b[0m, in \u001b[0;36mWebDriver.execute\u001b[1;34m(self, driver_command, params)\u001b[0m\n\u001b[0;32m    346\u001b[0m response \u001b[38;5;241m=\u001b[39m \u001b[38;5;28mself\u001b[39m\u001b[38;5;241m.\u001b[39mcommand_executor\u001b[38;5;241m.\u001b[39mexecute(driver_command, params)\n\u001b[0;32m    347\u001b[0m \u001b[38;5;28;01mif\u001b[39;00m response:\n\u001b[1;32m--> 348\u001b[0m     \u001b[38;5;28mself\u001b[39m\u001b[38;5;241m.\u001b[39merror_handler\u001b[38;5;241m.\u001b[39mcheck_response(response)\n\u001b[0;32m    349\u001b[0m     response[\u001b[38;5;124m\"\u001b[39m\u001b[38;5;124mvalue\u001b[39m\u001b[38;5;124m\"\u001b[39m] \u001b[38;5;241m=\u001b[39m \u001b[38;5;28mself\u001b[39m\u001b[38;5;241m.\u001b[39m_unwrap_value(response\u001b[38;5;241m.\u001b[39mget(\u001b[38;5;124m\"\u001b[39m\u001b[38;5;124mvalue\u001b[39m\u001b[38;5;124m\"\u001b[39m, \u001b[38;5;28;01mNone\u001b[39;00m))\n\u001b[0;32m    350\u001b[0m     \u001b[38;5;28;01mreturn\u001b[39;00m response\n",
      "File \u001b[1;32m~\\anaconda 2\\Lib\\site-packages\\selenium\\webdriver\\remote\\errorhandler.py:229\u001b[0m, in \u001b[0;36mErrorHandler.check_response\u001b[1;34m(self, response)\u001b[0m\n\u001b[0;32m    227\u001b[0m         alert_text \u001b[38;5;241m=\u001b[39m value[\u001b[38;5;124m\"\u001b[39m\u001b[38;5;124malert\u001b[39m\u001b[38;5;124m\"\u001b[39m]\u001b[38;5;241m.\u001b[39mget(\u001b[38;5;124m\"\u001b[39m\u001b[38;5;124mtext\u001b[39m\u001b[38;5;124m\"\u001b[39m)\n\u001b[0;32m    228\u001b[0m     \u001b[38;5;28;01mraise\u001b[39;00m exception_class(message, screen, stacktrace, alert_text)  \u001b[38;5;66;03m# type: ignore[call-arg]  # mypy is not smart enough here\u001b[39;00m\n\u001b[1;32m--> 229\u001b[0m \u001b[38;5;28;01mraise\u001b[39;00m exception_class(message, screen, stacktrace)\n",
      "\u001b[1;31mNoSuchElementException\u001b[0m: Message: no such element: Unable to locate element: {\"method\":\"xpath\",\"selector\":\"//*[@id=\"rso\"]/div[1]/div/div[1]/div/div/div[1]/div[2]/div/div[1]/div[1]/div/div[1]/div/div[1]/div/div[2]/div[1]/div/div/div/div[1]/div[1]/div/div/div[2]/div[2]/div/div[1]/div/div[1]/a/div/div[2]/div/div[1]/div\"}\n  (Session info: chrome=122.0.6261.111); For documentation on this error, please visit: https://www.selenium.dev/documentation/webdriver/troubleshooting/errors#no-such-element-exception\nStacktrace:\n\tGetHandleVerifier [0x01068C93+51395]\n\t(No symbol) [0x00FD5EF1]\n\t(No symbol) [0x00E8E13A]\n\t(No symbol) [0x00EC62BB]\n\t(No symbol) [0x00EC63EB]\n\t(No symbol) [0x00EFC162]\n\t(No symbol) [0x00EE3ED4]\n\t(No symbol) [0x00EFA570]\n\t(No symbol) [0x00EE3C26]\n\t(No symbol) [0x00EBC629]\n\t(No symbol) [0x00EBD40D]\n\tGetHandleVerifier [0x013E6453+3711107]\n\tGetHandleVerifier [0x0142583A+3970154]\n\tGetHandleVerifier [0x01420B28+3950424]\n\tGetHandleVerifier [0x01119C99+776393]\n\t(No symbol) [0x00FE16C4]\n\t(No symbol) [0x00FDC5A8]\n\t(No symbol) [0x00FDC759]\n\t(No symbol) [0x00FCDD80]\n\tBaseThreadInitThunk [0x76407BA9+25]\n\tRtlInitializeExceptionChain [0x779DBD2B+107]\n\tRtlClearBits [0x779DBCAF+191]\n"
     ]
    }
   ],
   "source": [
    "from selenium import webdriver\n",
    "from webdriver_manager.chrome import ChromeDriverManager\n",
    "from selenium.webdriver.chrome.service import Service\n",
    "\n",
    "servico = Service(ChromeDriverManager().install())\n",
    "\n",
    "navegador = webdriver.Chrome(service=servico)\n",
    "# Passo 1:\n",
    "navegador.get(\"https://www.google.com.br/search?q=MT-5103858-A5D392DF73984B7E8F2DF104C1D7F2CE\")\n",
    "\n",
    "# Passo 2:\n",
    "navegador.find_element('xpath', '//*[@id=\"rso\"]/div[1]/div/div/div[2]/div/span/text()[1]')"
   ]
  },
  {
   "cell_type": "code",
   "execution_count": 51,
   "id": "c6f6a43d",
   "metadata": {},
   "outputs": [
    {
     "name": "stdout",
     "output_type": "stream",
     "text": [
      "Collecting pyperclip\n",
      "  Using cached pyperclip-1.8.2-py3-none-any.whl\n",
      "Installing collected packages: pyperclip\n",
      "Successfully installed pyperclip-1.8.2\n"
     ]
    }
   ],
   "source": [
    "!pip install pyperclip\n"
   ]
  },
  {
   "cell_type": "code",
   "execution_count": 52,
   "id": "8483959c",
   "metadata": {},
   "outputs": [
    {
     "name": "stdout",
     "output_type": "stream",
     "text": [
      "Texto copiado: FAZENDA CINCO ESTRELAS é uma propriedade rural de 3278.02 ha cadastrada por Pablo Souza Santos sob o número MT-5103858-A5D392DF73984B7E8F2DF104C1D7F2CE no ...\n"
     ]
    }
   ],
   "source": [
    "from selenium import webdriver\n",
    "from selenium.webdriver.common.by import By\n",
    "import pyperclip\n",
    "\n",
    "# Configuração do WebDriver\n",
    "driver = webdriver.Chrome()\n",
    "driver.get(\"https://www.google.com.br/search?q=MT-5103858-A5D392DF73984B7E8F2DF104C1D7F2CE\")\n",
    "\n",
    "# Localizando o elemento com XPath\n",
    "elemento = driver.find_element(By.XPATH, '//*[@id=\"rso\"]/div[1]/div/div/div[2]/div/span')\n",
    "\n",
    "# Obtendo o texto do elemento\n",
    "texto = elemento.text\n",
    "\n",
    "# Copiando o texto para a área de transferência\n",
    "pyperclip.copy(texto)\n",
    "\n",
    "# Fechando o navegador\n",
    "driver.quit()\n",
    "\n",
    "# Print apenas para verificar o texto copiado\n",
    "print(\"Texto copiado:\", texto)\n"
   ]
  },
  {
   "cell_type": "code",
   "execution_count": 53,
   "id": "4bace88f",
   "metadata": {},
   "outputs": [
    {
     "name": "stdout",
     "output_type": "stream",
     "text": [
      "Texto copiado: Pablo Souza Santos\n"
     ]
    }
   ],
   "source": [
    "from selenium import webdriver\n",
    "from selenium.webdriver.common.by import By\n",
    "import pyperclip\n",
    "\n",
    "# Configuração do WebDriver\n",
    "driver = webdriver.Chrome()\n",
    "driver.get(\"https://www.google.com.br/search?q=MT-5103858-A5D392DF73984B7E8F2DF104C1D7F2CE\")\n",
    "\n",
    "# Localizando o elemento com XPath\n",
    "elemento = driver.find_element(By.XPATH, '//*[@id=\"rso\"]/div[1]/div/div/div[2]/div/span')\n",
    "\n",
    "# Obtendo o texto do elemento\n",
    "texto_completo = elemento.text\n",
    "\n",
    "# Encontrando as posições de \"cadastrada por\" e \"sob o número\"\n",
    "inicio = texto_completo.find(\"cadastrada por\") + len(\"cadastrada por\")\n",
    "fim = texto_completo.find(\"sob o número\")\n",
    "\n",
    "# Obtendo o texto entre as duas strings\n",
    "texto_extraido = texto_completo[inicio:fim].strip()\n",
    "\n",
    "# Copiando o texto para a área de transferência\n",
    "pyperclip.copy(texto_extraido)\n",
    "\n",
    "# Fechando o navegador\n",
    "driver.quit()\n",
    "\n",
    "# Print apenas para verificar o texto copiado\n",
    "print(\"Texto copiado:\", texto_extraido)\n"
   ]
  },
  {
   "cell_type": "code",
   "execution_count": 66,
   "id": "5afe31ea",
   "metadata": {},
   "outputs": [
    {
     "name": "stdout",
     "output_type": "stream",
     "text": [
      "Resultados:\n",
      "Pablo Souza Santos\n",
      "na vista aéra, tamanho da área em hectares, módulo fiscal, situação e pendências de Mt-5107909-83d9157a49bc4cb0a1aa1b7985e25fd9 em Sinop - MT, ..\n"
     ]
    }
   ],
   "source": [
    "# //*[@id=\"rso\"]/div[2]/div/div/div[2]/div/span\n",
    "\n",
    "from selenium import webdriver\n",
    "from selenium.webdriver.common.by import By\n",
    "import pyperclip\n",
    "\n",
    "# Configuração do WebDriver\n",
    "driver = webdriver.Chrome()\n",
    "driver.get(\"https://www.google.com.br/search?q=MT-5107909-BB4C853F7E894936B7700F33DB3E8D1A\")\n",
    "\n",
    "# Localizando o elemento com XPath\n",
    "elemento = driver.find_element(By.XPATH, '//*[@id=\"rso\"]/div[1]/div/div/div[2]/div/span')\n",
    "\n",
    "# Obtendo o texto do elemento\n",
    "texto_completo = elemento.text\n",
    "\n",
    "# Encontrando as posições de \"cadastrada por\" e \"sob o número\"\n",
    "inicio = texto_completo.find(\"cadastrada por\") + len(\"cadastrada por\")\n",
    "fim = texto_completo.find(\"sob o número\")\n",
    "\n",
    "# Obtendo o texto entre as duas strings\n",
    "texto_extraido = texto_completo[inicio:fim].strip()\n",
    "\n",
    "# Adicionando o texto extraído à lista de resultados\n",
    "resultados.append(texto_extraido)\n",
    "\n",
    "# Fechando o navegador\n",
    "driver.quit()\n",
    "\n",
    "# Print para verificar os resultados\n",
    "print(\"Resultados:\")\n",
    "for resultado in resultados:\n",
    "    print(resultado)\n",
    "\n",
    "# Se desejar, os resultados também estão armazenados na lista 'resultados'"
   ]
  },
  {
   "cell_type": "code",
   "execution_count": 72,
   "id": "d2098f20",
   "metadata": {},
   "outputs": [
    {
     "name": "stdout",
     "output_type": "stream",
     "text": [
      "Texto copiado: TÉRCIO FERREIRA NOVAIS\n"
     ]
    }
   ],
   "source": [
    "from selenium import webdriver\n",
    "from selenium.webdriver.common.by import By\n",
    "import pyperclip\n",
    "\n",
    "def extrair_texto_por_xpath(url, xpath):\n",
    "    # Configuração do WebDriver\n",
    "    driver = webdriver.Chrome()\n",
    "    driver.get(url)\n",
    "\n",
    "    # Localizando o elemento com XPath\n",
    "    elemento = driver.find_element(By.XPATH, xpath)\n",
    "\n",
    "    # Obtendo o texto do elemento\n",
    "    texto_completo = elemento.text\n",
    "\n",
    "    # Encontrando as posições de \"cadastrado por\" e \", situado\"\n",
    "    inicio = texto_completo.find(\"cadastrado por\") + len(\"cadastrado por\")\n",
    "    fim = texto_completo.find(\", situado\")\n",
    "\n",
    "    # Obtendo o texto entre as duas strings\n",
    "    texto_extraido = texto_completo[inicio:fim].strip()\n",
    "\n",
    "    # Copiando o texto para a área de transferência\n",
    "    pyperclip.copy(texto_extraido)\n",
    "\n",
    "    # Fechando o navegador\n",
    "    driver.quit()\n",
    "\n",
    "    # Retornando o texto extraído\n",
    "    return texto_extraido\n",
    "\n",
    "# Exemplo de uso com um URL e XPath variável\n",
    "url = \"https://www.google.com.br/search?q=MT-MT-5105580-CA9F02C1703E44A8A1F1BB3DB78269ED\"\n",
    "xpath = '//*[@id=\"rso\"]/div[1]/div/div/div[2]/div/span'\n",
    "texto_copiado = extrair_texto_por_xpath(url, xpath)\n",
    "\n",
    "# Print apenas para verificar o texto copiado\n",
    "print(\"Texto copiado:\", texto_copiado)\n"
   ]
  },
  {
   "cell_type": "code",
   "execution_count": 76,
   "id": "2fdbbce7",
   "metadata": {},
   "outputs": [
    {
     "name": "stdout",
     "output_type": "stream",
     "text": [
      "Extraindo para código: MT-5105580-CA9F02C1703E44A8A1F1BB3DB78269ED...\n"
     ]
    },
    {
     "ename": "NoSuchDriverException",
     "evalue": "Message: Unable to locate or obtain driver for chrome; For documentation on this error, please visit: https://www.selenium.dev/documentation/webdriver/troubleshooting/errors/driver_location\n",
     "output_type": "error",
     "traceback": [
      "\u001b[1;31m---------------------------------------------------------------------------\u001b[0m",
      "\u001b[1;31mNoSuchDriverException\u001b[0m                     Traceback (most recent call last)",
      "Cell \u001b[1;32mIn[76], line 68\u001b[0m\n\u001b[0;32m     59\u001b[0m codigos \u001b[38;5;241m=\u001b[39m [\n\u001b[0;32m     60\u001b[0m     \u001b[38;5;124m\"\u001b[39m\u001b[38;5;124mMT-5105580-CA9F02C1703E44A8A1F1BB3DB78269ED\u001b[39m\u001b[38;5;124m\"\u001b[39m,\n\u001b[0;32m     61\u001b[0m     \u001b[38;5;124m\"\u001b[39m\u001b[38;5;124mMT-5107909-BB4C853F7E894936B7700F33DB3E8D1A\u001b[39m\u001b[38;5;124m\"\u001b[39m,\n\u001b[1;32m   (...)\u001b[0m\n\u001b[0;32m     64\u001b[0m     \u001b[38;5;124m\"\u001b[39m\u001b[38;5;124mMT-5105580-75680085CF654ABF9E02697EB7ADDAE4\u001b[39m\u001b[38;5;124m\"\u001b[39m\n\u001b[0;32m     65\u001b[0m ]\n\u001b[0;32m     67\u001b[0m \u001b[38;5;66;03m# Chamando a função para processar os códigos\u001b[39;00m\n\u001b[1;32m---> 68\u001b[0m resultados \u001b[38;5;241m=\u001b[39m processar_codigos(codigos)\n\u001b[0;32m     70\u001b[0m \u001b[38;5;66;03m# Exibindo os resultados em formato de tabela\u001b[39;00m\n\u001b[0;32m     71\u001b[0m \u001b[38;5;28mprint\u001b[39m(\u001b[38;5;124m\"\u001b[39m\u001b[38;5;130;01m\\n\u001b[39;00m\u001b[38;5;124mResultados:\u001b[39m\u001b[38;5;124m\"\u001b[39m)\n",
      "Cell \u001b[1;32mIn[76], line 50\u001b[0m, in \u001b[0;36mprocessar_codigos\u001b[1;34m(lista_codigos)\u001b[0m\n\u001b[0;32m     48\u001b[0m xpath \u001b[38;5;241m=\u001b[39m \u001b[38;5;124m'\u001b[39m\u001b[38;5;124m//*[@id=\u001b[39m\u001b[38;5;124m\"\u001b[39m\u001b[38;5;124mrso\u001b[39m\u001b[38;5;124m\"\u001b[39m\u001b[38;5;124m]/div[1]/div/div/div[2]/div/span\u001b[39m\u001b[38;5;124m'\u001b[39m\n\u001b[0;32m     49\u001b[0m \u001b[38;5;28mprint\u001b[39m(\u001b[38;5;124mf\u001b[39m\u001b[38;5;124m\"\u001b[39m\u001b[38;5;124mExtraindo para código: \u001b[39m\u001b[38;5;132;01m{\u001b[39;00mcodigo\u001b[38;5;132;01m}\u001b[39;00m\u001b[38;5;124m...\u001b[39m\u001b[38;5;124m\"\u001b[39m)\n\u001b[1;32m---> 50\u001b[0m resultado \u001b[38;5;241m=\u001b[39m extrair_texto_por_xpath(url, xpath)\n\u001b[0;32m     51\u001b[0m resultados\u001b[38;5;241m.\u001b[39mappend({\u001b[38;5;124m\"\u001b[39m\u001b[38;5;124mCódigo\u001b[39m\u001b[38;5;124m\"\u001b[39m: codigo, \u001b[38;5;124m\"\u001b[39m\u001b[38;5;124mResultado\u001b[39m\u001b[38;5;124m\"\u001b[39m: resultado})\n\u001b[0;32m     52\u001b[0m \u001b[38;5;28mprint\u001b[39m(\u001b[38;5;124mf\u001b[39m\u001b[38;5;124m\"\u001b[39m\u001b[38;5;124mExtraído para código \u001b[39m\u001b[38;5;132;01m{\u001b[39;00mcodigo\u001b[38;5;132;01m}\u001b[39;00m\u001b[38;5;124m\"\u001b[39m)\n",
      "Cell \u001b[1;32mIn[76], line 16\u001b[0m, in \u001b[0;36mextrair_texto_por_xpath\u001b[1;34m(url, xpath)\u001b[0m\n\u001b[0;32m     13\u001b[0m chrome_options\u001b[38;5;241m.\u001b[39madd_argument(\u001b[38;5;124m'\u001b[39m\u001b[38;5;124m--no-sandbox\u001b[39m\u001b[38;5;124m'\u001b[39m)\n\u001b[0;32m     15\u001b[0m service \u001b[38;5;241m=\u001b[39m Service(executable_path\u001b[38;5;241m=\u001b[39m\u001b[38;5;124m\"\u001b[39m\u001b[38;5;124mC:/path/to/chromedriver.exe\u001b[39m\u001b[38;5;124m\"\u001b[39m)  \u001b[38;5;66;03m# Altere para o caminho do seu chromedriver\u001b[39;00m\n\u001b[1;32m---> 16\u001b[0m driver \u001b[38;5;241m=\u001b[39m webdriver\u001b[38;5;241m.\u001b[39mChrome(service\u001b[38;5;241m=\u001b[39mservice, options\u001b[38;5;241m=\u001b[39mchrome_options)\n\u001b[0;32m     18\u001b[0m driver\u001b[38;5;241m.\u001b[39mget(url)\n\u001b[0;32m     20\u001b[0m \u001b[38;5;28;01mtry\u001b[39;00m:\n\u001b[0;32m     21\u001b[0m     \u001b[38;5;66;03m# Localizando o elemento com XPath\u001b[39;00m\n",
      "File \u001b[1;32m~\\anaconda 2\\Lib\\site-packages\\selenium\\webdriver\\chrome\\webdriver.py:45\u001b[0m, in \u001b[0;36mWebDriver.__init__\u001b[1;34m(self, options, service, keep_alive)\u001b[0m\n\u001b[0;32m     42\u001b[0m service \u001b[38;5;241m=\u001b[39m service \u001b[38;5;28;01mif\u001b[39;00m service \u001b[38;5;28;01melse\u001b[39;00m Service()\n\u001b[0;32m     43\u001b[0m options \u001b[38;5;241m=\u001b[39m options \u001b[38;5;28;01mif\u001b[39;00m options \u001b[38;5;28;01melse\u001b[39;00m Options()\n\u001b[1;32m---> 45\u001b[0m \u001b[38;5;28msuper\u001b[39m()\u001b[38;5;241m.\u001b[39m\u001b[38;5;21m__init__\u001b[39m(\n\u001b[0;32m     46\u001b[0m     browser_name\u001b[38;5;241m=\u001b[39mDesiredCapabilities\u001b[38;5;241m.\u001b[39mCHROME[\u001b[38;5;124m\"\u001b[39m\u001b[38;5;124mbrowserName\u001b[39m\u001b[38;5;124m\"\u001b[39m],\n\u001b[0;32m     47\u001b[0m     vendor_prefix\u001b[38;5;241m=\u001b[39m\u001b[38;5;124m\"\u001b[39m\u001b[38;5;124mgoog\u001b[39m\u001b[38;5;124m\"\u001b[39m,\n\u001b[0;32m     48\u001b[0m     options\u001b[38;5;241m=\u001b[39moptions,\n\u001b[0;32m     49\u001b[0m     service\u001b[38;5;241m=\u001b[39mservice,\n\u001b[0;32m     50\u001b[0m     keep_alive\u001b[38;5;241m=\u001b[39mkeep_alive,\n\u001b[0;32m     51\u001b[0m )\n",
      "File \u001b[1;32m~\\anaconda 2\\Lib\\site-packages\\selenium\\webdriver\\chromium\\webdriver.py:49\u001b[0m, in \u001b[0;36mChromiumDriver.__init__\u001b[1;34m(self, browser_name, vendor_prefix, options, service, keep_alive)\u001b[0m\n\u001b[0;32m     37\u001b[0m \u001b[38;5;250m\u001b[39m\u001b[38;5;124;03m\"\"\"Creates a new WebDriver instance of the ChromiumDriver. Starts the\u001b[39;00m\n\u001b[0;32m     38\u001b[0m \u001b[38;5;124;03mservice and then creates new WebDriver instance of ChromiumDriver.\u001b[39;00m\n\u001b[0;32m     39\u001b[0m \n\u001b[1;32m   (...)\u001b[0m\n\u001b[0;32m     45\u001b[0m \u001b[38;5;124;03m - keep_alive - Whether to configure ChromiumRemoteConnection to use HTTP keep-alive.\u001b[39;00m\n\u001b[0;32m     46\u001b[0m \u001b[38;5;124;03m\"\"\"\u001b[39;00m\n\u001b[0;32m     47\u001b[0m \u001b[38;5;28mself\u001b[39m\u001b[38;5;241m.\u001b[39mservice \u001b[38;5;241m=\u001b[39m service\n\u001b[1;32m---> 49\u001b[0m \u001b[38;5;28mself\u001b[39m\u001b[38;5;241m.\u001b[39mservice\u001b[38;5;241m.\u001b[39mpath \u001b[38;5;241m=\u001b[39m DriverFinder\u001b[38;5;241m.\u001b[39mget_path(\u001b[38;5;28mself\u001b[39m\u001b[38;5;241m.\u001b[39mservice, options)\n\u001b[0;32m     50\u001b[0m \u001b[38;5;28mself\u001b[39m\u001b[38;5;241m.\u001b[39mservice\u001b[38;5;241m.\u001b[39mstart()\n\u001b[0;32m     52\u001b[0m executor \u001b[38;5;241m=\u001b[39m ChromiumRemoteConnection(\n\u001b[0;32m     53\u001b[0m     remote_server_addr\u001b[38;5;241m=\u001b[39m\u001b[38;5;28mself\u001b[39m\u001b[38;5;241m.\u001b[39mservice\u001b[38;5;241m.\u001b[39mservice_url,\n\u001b[0;32m     54\u001b[0m     browser_name\u001b[38;5;241m=\u001b[39mbrowser_name,\n\u001b[1;32m   (...)\u001b[0m\n\u001b[0;32m     57\u001b[0m     ignore_proxy\u001b[38;5;241m=\u001b[39moptions\u001b[38;5;241m.\u001b[39m_ignore_local_proxy,\n\u001b[0;32m     58\u001b[0m )\n",
      "File \u001b[1;32m~\\anaconda 2\\Lib\\site-packages\\selenium\\webdriver\\common\\driver_finder.py:44\u001b[0m, in \u001b[0;36mDriverFinder.get_path\u001b[1;34m(service, options)\u001b[0m\n\u001b[0;32m     41\u001b[0m     \u001b[38;5;28;01mraise\u001b[39;00m NoSuchDriverException(msg) \u001b[38;5;28;01mfrom\u001b[39;00m \u001b[38;5;21;01merr\u001b[39;00m\n\u001b[0;32m     43\u001b[0m \u001b[38;5;28;01mif\u001b[39;00m path \u001b[38;5;129;01mis\u001b[39;00m \u001b[38;5;28;01mNone\u001b[39;00m \u001b[38;5;129;01mor\u001b[39;00m \u001b[38;5;129;01mnot\u001b[39;00m Path(path)\u001b[38;5;241m.\u001b[39mis_file():\n\u001b[1;32m---> 44\u001b[0m     \u001b[38;5;28;01mraise\u001b[39;00m NoSuchDriverException(\u001b[38;5;124mf\u001b[39m\u001b[38;5;124m\"\u001b[39m\u001b[38;5;124mUnable to locate or obtain driver for \u001b[39m\u001b[38;5;132;01m{\u001b[39;00moptions\u001b[38;5;241m.\u001b[39mcapabilities[\u001b[38;5;124m'\u001b[39m\u001b[38;5;124mbrowserName\u001b[39m\u001b[38;5;124m'\u001b[39m]\u001b[38;5;132;01m}\u001b[39;00m\u001b[38;5;124m\"\u001b[39m)\n\u001b[0;32m     46\u001b[0m \u001b[38;5;28;01mreturn\u001b[39;00m path\n",
      "\u001b[1;31mNoSuchDriverException\u001b[0m: Message: Unable to locate or obtain driver for chrome; For documentation on this error, please visit: https://www.selenium.dev/documentation/webdriver/troubleshooting/errors/driver_location\n"
     ]
    }
   ],
   "source": [
    "from selenium import webdriver\n",
    "from selenium.webdriver.chrome.service import Service\n",
    "from selenium.webdriver.common.by import By\n",
    "import pyperclip\n",
    "import time\n",
    "from tabulate import tabulate\n",
    "\n",
    "def extrair_texto_por_xpath(url, xpath):\n",
    "    # Configuração do WebDriver em modo headless\n",
    "    chrome_options = webdriver.ChromeOptions()\n",
    "    chrome_options.add_argument('--headless')\n",
    "    chrome_options.add_argument('--disable-gpu')\n",
    "    chrome_options.add_argument('--no-sandbox')\n",
    "\n",
    "    service = Service(executable_path=\"C:/path/to/chromedriver.exe\")  # Altere para o caminho do seu chromedriver\n",
    "    driver = webdriver.Chrome(service=service, options=chrome_options)\n",
    "\n",
    "    driver.get(url)\n",
    "\n",
    "    try:\n",
    "        # Localizando o elemento com XPath\n",
    "        elemento = driver.find_element(By.XPATH, xpath)\n",
    "\n",
    "        # Obtendo o texto do elemento\n",
    "        texto_completo = elemento.text\n",
    "\n",
    "        # Encontrando as posições de \"cadastrado por\" e \", situado\"\n",
    "        inicio = texto_completo.find(\"cadastrado por\") + len(\"cadastrado por\")\n",
    "        fim = texto_completo.find(\", situado\")\n",
    "\n",
    "        # Obtendo o texto entre as duas strings\n",
    "        texto_extraido = texto_completo[inicio:fim].strip()\n",
    "\n",
    "    except:\n",
    "        texto_extraido = \"Texto não encontrado\"\n",
    "\n",
    "    # Fechando o navegador\n",
    "    driver.quit()\n",
    "\n",
    "    # Retornando o texto extraído\n",
    "    return texto_extraido\n",
    "\n",
    "# Função para processar uma lista de códigos\n",
    "def processar_codigos(lista_codigos):\n",
    "    resultados = []\n",
    "    for codigo in lista_codigos:\n",
    "        url = f\"https://www.google.com.br/search?q={codigo}\"\n",
    "        xpath = '//*[@id=\"rso\"]/div[1]/div/div/div[2]/div/span'\n",
    "        print(f\"Extraindo para código: {codigo}...\")\n",
    "        resultado = extrair_texto_por_xpath(url, xpath)\n",
    "        resultados.append({\"Código\": codigo, \"Resultado\": resultado})\n",
    "        print(f\"Extraído para código {codigo}\")\n",
    "        print(\"-\" * 50)\n",
    "        time.sleep(2)  # Para evitar bloqueios por excesso de requisições\n",
    "\n",
    "    return resultados\n",
    "\n",
    "# Lista de códigos\n",
    "codigos = [\n",
    "    \"MT-5105580-CA9F02C1703E44A8A1F1BB3DB78269ED\",\n",
    "    \"MT-5107909-BB4C853F7E894936B7700F33DB3E8D1A\",\n",
    "    \"MT-5105580-E6E89649ED68495688B401A5C54AAC79\",\n",
    "    \"MT-5105580-24594C34FAD94DDF898C749155E4A16A\",\n",
    "    \"MT-5105580-75680085CF654ABF9E02697EB7ADDAE4\"\n",
    "]\n",
    "\n",
    "# Chamando a função para processar os códigos\n",
    "resultados = processar_codigos(codigos)\n",
    "\n",
    "# Exibindo os resultados em formato de tabela\n",
    "print(\"\\nResultados:\")\n",
    "print(tabulate(resultados, headers=\"keys\", tablefmt=\"fancy_grid\"))\n"
   ]
  }
 ],
 "metadata": {
  "kernelspec": {
   "display_name": "Python 3 (ipykernel)",
   "language": "python",
   "name": "python3"
  },
  "language_info": {
   "codemirror_mode": {
    "name": "ipython",
    "version": 3
   },
   "file_extension": ".py",
   "mimetype": "text/x-python",
   "name": "python",
   "nbconvert_exporter": "python",
   "pygments_lexer": "ipython3",
   "version": "3.11.5"
  }
 },
 "nbformat": 4,
 "nbformat_minor": 5
}
