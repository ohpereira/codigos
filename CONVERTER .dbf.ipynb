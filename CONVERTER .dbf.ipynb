{
 "cells": [
  {
   "cell_type": "code",
   "execution_count": null,
   "id": "a343e01a",
   "metadata": {},
   "outputs": [],
   "source": [
    "import os\n",
    "from dbfread import DBF\n",
    "import csv\n",
    "\n",
    "# Função para converter um arquivo .dbf em um arquivo .csv\n",
    "def dbf_to_csv(dbf_file, csv_file):\n",
    "    table = DBF(dbf_file)\n",
    "    with open(csv_file, 'w', newline='', encoding='utf-8') as f:\n",
    "        writer = csv.writer(f)\n",
    "        writer.writerow(table.field_names)\n",
    "        for record in table:\n",
    "            writer.writerow(list(record.values()))\n",
    "\n",
    "# Diretório onde os arquivos .dbf estão localizados\n",
    "dbf_dir = \"C:/Users/bernardo/Desktop/projetos pessoais/CARs_BRASIL/CARs_BR\"\n",
    "# Diretório onde os arquivos .csv serão salvos\n",
    "csv_dir = \"C:/Users/bernardo/Desktop/projetos pessoais/CARs_BRASIL/CARs_BR/CARs_csv\"\n",
    "\n",
    "# Verifica se o diretório de saída existe, se não, cria\n",
    "if not os.path.exists(csv_dir):\n",
    "    os.makedirs(csv_dir)\n",
    "\n",
    "# Lista todos os arquivos .dbf no diretório\n",
    "for filename in os.listdir(dbf_dir):\n",
    "    if filename.endswith(\".dbf\"):\n",
    "        dbf_file = os.path.join(dbf_dir, filename)\n",
    "        # Gera o nome do arquivo .csv substituindo a extensão\n",
    "        csv_file = os.path.join(csv_dir, filename.replace(\".dbf\", \".csv\"))\n",
    "        print(f\"Convertendo {dbf_file} para {csv_file}\")\n",
    "        dbf_to_csv(dbf_file, csv_file)\n",
    "\n",
    "print(\"Conversão concluída.\")\n"
   ]
  },
  {
   "cell_type": "markdown",
   "id": "4d9baa7e",
   "metadata": {},
   "source": [
    "## Consolidar os arquivos .csv "
   ]
  },
  {
   "cell_type": "code",
   "execution_count": 8,
   "id": "c96843ee",
   "metadata": {},
   "outputs": [
    {
     "name": "stdout",
     "output_type": "stream",
     "text": [
      "Arquivos consolidados em: C:/Users/bernardo/Desktop/projetos pessoais/CARs_BRASIL/CARs_BR/CARs_csv/cars_consolidado.csv\n"
     ]
    }
   ],
   "source": [
    "import os\n",
    "import csv\n",
    "\n",
    "# Diretório onde os arquivos .csv estão localizados\n",
    "csv_dir = \"C:/Users/bernardo/Desktop/projetos pessoais/CARs_BRASIL/CARs_BR/CARs_csv\"\n",
    "\n",
    "# Nome do arquivo consolidado\n",
    "output_file = \"C:/Users/bernardo/Desktop/projetos pessoais/CARs_BRASIL/CARs_BR/CARs_csv/cars_consolidado.csv\"\n",
    "\n",
    "# Lista para armazenar os nomes dos arquivos CSV\n",
    "csv_files = []\n",
    "\n",
    "# Lista todos os arquivos .csv no diretório\n",
    "for filename in os.listdir(csv_dir):\n",
    "    if filename.endswith(\".csv\"):\n",
    "        csv_files.append(os.path.join(csv_dir, filename))\n",
    "\n",
    "# Verifica se há arquivos CSV para consolidar\n",
    "if len(csv_files) == 0:\n",
    "    print(\"Nenhum arquivo CSV encontrado.\")\n",
    "    exit()\n",
    "\n",
    "# Lista de colunas que você deseja manter\n",
    "colunas_a_manter = ['cod_imovel', 'mod_fiscal', 'num_area', 'ind_status', 'ind_tipo', 'des_condic', 'municipio', 'cod_estado' ]\n",
    "# Substitua pelos nomes reais das colunas que deseja manter\n",
    "\n",
    "# Cria o arquivo consolidado\n",
    "with open(output_file, 'w', newline='', encoding='utf-8') as output_csv:\n",
    "    # Inicializa o escritor CSV\n",
    "    writer = csv.writer(output_csv)\n",
    "\n",
    "    # Abre o primeiro arquivo CSV para obter o cabeçalho\n",
    "    with open(csv_files[0], 'r', newline='', encoding='utf-8') as first_csv:\n",
    "        reader = csv.reader(first_csv)\n",
    "        header = next(reader)\n",
    "\n",
    "        # Mantém apenas as colunas desejadas\n",
    "        header_to_write = [col for col in header if col in colunas_a_manter]\n",
    "        writer.writerow(header_to_write)\n",
    "\n",
    "        # Escreve os dados do primeiro arquivo (exceto o cabeçalho)\n",
    "        for row in reader:\n",
    "            row_to_write = [row[i] for i, col in enumerate(header) if col in colunas_a_manter]\n",
    "            writer.writerow(row_to_write)\n",
    "\n",
    "    # Concatena os dados dos arquivos restantes\n",
    "    for csv_file in csv_files[1:]:\n",
    "        with open(csv_file, 'r', newline='', encoding='utf-8') as input_csv:\n",
    "            reader = csv.reader(input_csv)\n",
    "            # Ignora o cabeçalho dos arquivos restantes\n",
    "            next(reader, None)\n",
    "            # Escreve os dados dos arquivos restantes\n",
    "            for row in reader:\n",
    "                row_to_write = [row[i] for i, col in enumerate(header) if col in colunas_a_manter]\n",
    "                writer.writerow(row_to_write)\n",
    "\n",
    "print(f\"Arquivos consolidados em: {output_file}\")\n"
   ]
  },
  {
   "cell_type": "markdown",
   "id": "ea7e3060",
   "metadata": {},
   "source": [
    "## visualizar df"
   ]
  },
  {
   "cell_type": "code",
   "execution_count": 11,
   "id": "a86dc911",
   "metadata": {},
   "outputs": [],
   "source": [
    "import pandas as pd\n",
    "\n",
    "# Caminho para o arquivo consolidado\n",
    "consolidated_file = \"C:/Users/bernardo/Desktop/projetos pessoais/CARs_BRASIL/CARs_BR/CARs_csv/cars_consolidado.csv\"\n",
    "\n",
    "# Lê o arquivo consolidado usando Pandas\n",
    "df = pd.read_csv(consolidated_file)\n",
    "\n"
   ]
  },
  {
   "cell_type": "code",
   "execution_count": 12,
   "id": "f797ba25",
   "metadata": {},
   "outputs": [
    {
     "name": "stdout",
     "output_type": "stream",
     "text": [
      "Primeiras linhas do DataFrame:\n",
      "                                    cod_imovel  mod_fiscal     num_area  \\\n",
      "0  AC-1200435-FA1FAFE4584F4A4286756A9DD56A280A    271.4456   27144.5676   \n",
      "1  AC-1200435-7966BE27C2484A55A1F2B635C710D9F1     29.3688    2936.8761   \n",
      "2  AC-1200435-BF161742078A40169FE13B3DF58CCF87     66.1681  231609.1226   \n",
      "3  AC-1200435-993AF762DF704D4ABF2EB966EAC86681   2315.8844  231609.1226   \n",
      "4  AC-1200435-AF08DCC29D964FBBAB5870C4C46F4288      1.0013     100.1250   \n",
      "\n",
      "  ind_status ind_tipo          des_condic            municipio cod_estado  \n",
      "0         AT      IRU  Aguardando analise  Santa Rosa do Purus         AC  \n",
      "1         AT      IRU  Aguardando analise  Santa Rosa do Purus         AC  \n",
      "2         AT      AST  Aguardando analise  Santa Rosa do Purus         AC  \n",
      "3         AT      PCT  Aguardando analise  Santa Rosa do Purus         AC  \n",
      "4         AT      IRU  Aguardando analise  Santa Rosa do Purus         AC  \n"
     ]
    }
   ],
   "source": [
    "# Exibe as primeiras linhas do DataFrame\n",
    "print(\"Primeiras linhas do DataFrame:\")\n",
    "print(df.head())"
   ]
  },
  {
   "cell_type": "code",
   "execution_count": 13,
   "id": "15e347a0",
   "metadata": {},
   "outputs": [
    {
     "name": "stdout",
     "output_type": "stream",
     "text": [
      "\n",
      "Informações sobre o DataFrame:\n",
      "<class 'pandas.core.frame.DataFrame'>\n",
      "RangeIndex: 7184510 entries, 0 to 7184509\n",
      "Data columns (total 8 columns):\n",
      " #   Column      Dtype  \n",
      "---  ------      -----  \n",
      " 0   cod_imovel  object \n",
      " 1   mod_fiscal  float64\n",
      " 2   num_area    float64\n",
      " 3   ind_status  object \n",
      " 4   ind_tipo    object \n",
      " 5   des_condic  object \n",
      " 6   municipio   object \n",
      " 7   cod_estado  object \n",
      "dtypes: float64(2), object(6)\n",
      "memory usage: 438.5+ MB\n",
      "None\n"
     ]
    }
   ],
   "source": [
    "# Exibe informações sobre o DataFrame\n",
    "print(\"\\nInformações sobre o DataFrame:\")\n",
    "print(df.info())"
   ]
  },
  {
   "cell_type": "code",
   "execution_count": 14,
   "id": "844cc304",
   "metadata": {},
   "outputs": [
    {
     "name": "stdout",
     "output_type": "stream",
     "text": [
      "\n",
      "Número de linhas: 7184510\n"
     ]
    }
   ],
   "source": [
    "# Exibe a quantidade de linhas\n",
    "print(f\"\\nNúmero de linhas: {len(df)}\")"
   ]
  }
 ],
 "metadata": {
  "kernelspec": {
   "display_name": "Python 3 (ipykernel)",
   "language": "python",
   "name": "python3"
  },
  "language_info": {
   "codemirror_mode": {
    "name": "ipython",
    "version": 3
   },
   "file_extension": ".py",
   "mimetype": "text/x-python",
   "name": "python",
   "nbconvert_exporter": "python",
   "pygments_lexer": "ipython3",
   "version": "3.11.5"
  }
 },
 "nbformat": 4,
 "nbformat_minor": 5
}
