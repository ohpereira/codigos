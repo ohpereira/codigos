{
 "cells": [
  {
   "cell_type": "code",
   "execution_count": 1,
   "id": "3753fca7",
   "metadata": {
    "scrolled": true
   },
   "outputs": [
    {
     "name": "stdout",
     "output_type": "stream",
     "text": [
      "ReCaptcha: KQoDz\n",
      "ReCaptcha: ySfLy\n",
      "ReCaptcha: 9SieN\n",
      "ReCaptcha: Ds32g\n",
      "ReCaptcha: mpbCT\n",
      "ReCaptcha: FdgLc\n",
      "ReCaptcha: VmbEG\n",
      "ReCaptcha: WG4QZ\n",
      "ReCaptcha: gLoMM\n",
      "ReCaptcha: jWhrv\n",
      "ReCaptcha: 9fnNE\n",
      "ReCaptcha: TW5ri\n",
      "ReCaptcha: nW6x6\n",
      "ReCaptcha: Dspxo\n",
      "ReCaptcha: SaAg3\n",
      "ReCaptcha: pnR4z\n",
      "ReCaptcha: UXmtK\n",
      "ReCaptcha: QXs6t\n",
      "ReCaptcha: 2ozbb\n",
      "ReCaptcha: K6KLg\n",
      "ReCaptcha: 3Senc\n",
      "ReCaptcha: NGZuB\n",
      "ReCaptcha: L65tQ\n",
      "ReCaptcha: Mcox3\n",
      "ReCaptcha: spwCf\n",
      "ReCaptcha: wYYeZ\n",
      "ReCaptcha: 8VPK2\n"
     ]
    }
   ],
   "source": [
    "import webbrowser\n",
    "\n",
    "# Diretório onde os arquivos serão baixados\n",
    "download_dir = \"C:/Users/Bernardo/Desktop/projetos pessoais/CARs_BRASIL/CARs_BR\"\n",
    "\n",
    "UFs = [\"AC\", \"AL\", \"AP\", \"AM\", \"BA\", \"CE\", \"DF\", \"ES\", \"GO\", \"MA\", \"MT\", \"MS\", \"MG\", \"PA\", \"PB\", \"PR\", \"PE\", \"PI\", \n",
    "\"RJ\", \"RN\", \"RS\", \"RO\", \"RR\", \"SC\", \"SP\", \"SE\", \"TO\"]\n",
    "\n",
    "for UF in UFs:\n",
    "    ReCaptcha = input(\"ReCaptcha: \")\n",
    "    webbrowser.open(f\"https://www.car.gov.br/publico/estados/downloadBase?idEstado={UF}&tipoBase=AREA_IMOVEL&ReCaptcha={ReCaptcha}\")\n",
    "\n",
    "# Diretório onde os arquivos serão baixados\n",
    "download_dir = \"C:/Users/Bernardo/Desktop/projetos pessoais/CARs_BRASIL/CARs_BR\"\n",
    "    \n",
    "# https://www.car.gov.br/publico/municipios/ReCaptcha?id=000001 --> abre um outra janela e cole esssa url "
   ]
  }
 ],
 "metadata": {
  "kernelspec": {
   "display_name": "Python 3 (ipykernel)",
   "language": "python",
   "name": "python3"
  },
  "language_info": {
   "codemirror_mode": {
    "name": "ipython",
    "version": 3
   },
   "file_extension": ".py",
   "mimetype": "text/x-python",
   "name": "python",
   "nbconvert_exporter": "python",
   "pygments_lexer": "ipython3",
   "version": "3.11.5"
  }
 },
 "nbformat": 4,
 "nbformat_minor": 5
}
